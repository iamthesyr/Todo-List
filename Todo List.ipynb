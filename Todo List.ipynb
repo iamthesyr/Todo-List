{
 "cells": [
  {
   "cell_type": "code",
   "execution_count": 3,
   "metadata": {},
   "outputs": [
    {
     "name": "stdout",
     "output_type": "stream",
     "text": [
      "Your List Has Members: '[]'\n",
      "What Operation Do You Want To Perform: \n",
      "\t1)Add Item In List \n",
      "\t2)Empty The List1\n",
      "Add Item: raza\n",
      "Do You Want To Continue The Program? y/ny\n",
      "Your List Has Members: '['raza']'\n",
      "What Operation Do You Want To Perform: \n",
      "\t1)Add Item In List \n",
      "\t2)Empty The Listanas\n",
      "Do You Want To Continue The Program? y/ny\n",
      "Your List Has Members: '['raza']'\n",
      "What Operation Do You Want To Perform: \n",
      "\t1)Add Item In List \n",
      "\t2)Empty The List1\n",
      "Add Item: 1\n",
      "Do You Want To Continue The Program? y/ny\n",
      "Your List Has Members: '['raza', '1']'\n",
      "What Operation Do You Want To Perform: \n",
      "\t1)Add Item In List \n",
      "\t2)Empty The List1\n",
      "Add Item: anas\n",
      "Do You Want To Continue The Program? y/ny\n",
      "Your List Has Members: '['raza', '1', 'anas']'\n",
      "What Operation Do You Want To Perform: \n",
      "\t1)Add Item In List \n",
      "\t2)Empty The List2\n",
      "Do You Want To Continue The Program? y/ny\n",
      "Your List Has Members: '[]'\n",
      "What Operation Do You Want To Perform: \n",
      "\t1)Add Item In List \n",
      "\t2)Empty The List1\n",
      "Add Item: asdf\n",
      "Do You Want To Continue The Program? y/ny\n",
      "Your List Has Members: '['asdf']'\n",
      "What Operation Do You Want To Perform: \n",
      "\t1)Add Item In List \n",
      "\t2)Empty The List2\n",
      "Do You Want To Continue The Program? y/nn\n"
     ]
    }
   ],
   "source": [
    "my_list=[]\n",
    "flag=True\n",
    "while flag:\n",
    "    print(f\"Your List Has Members: '{my_list}'\")\n",
    "    op=input(\"What Operation Do You Want To Perform: \\n\\t1)Add Item In List \\n\\t2)Empty The List\")\n",
    "    if op=='1':\n",
    "        items=input(\"Add Item: \")\n",
    "        my_list.append(items)\n",
    "    elif op=='2':\n",
    "        my_list.clear()\n",
    "    else:\n",
    "        pass\n",
    "    new_op=input(\"Do You Want To Continue The Program? y/n\")\n",
    "    if new_op==\"Y\" or new_op=='y':\n",
    "        flag=True\n",
    "    else:\n",
    "        flag=False"
   ]
  },
  {
   "cell_type": "code",
   "execution_count": null,
   "metadata": {},
   "outputs": [],
   "source": []
  }
 ],
 "metadata": {
  "kernelspec": {
   "display_name": "Python 3",
   "language": "python",
   "name": "python3"
  },
  "language_info": {
   "codemirror_mode": {
    "name": "ipython",
    "version": 3
   },
   "file_extension": ".py",
   "mimetype": "text/x-python",
   "name": "python",
   "nbconvert_exporter": "python",
   "pygments_lexer": "ipython3",
   "version": "3.7.3"
  }
 },
 "nbformat": 4,
 "nbformat_minor": 2
}
